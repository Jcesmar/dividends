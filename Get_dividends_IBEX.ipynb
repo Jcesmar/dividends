{
 "cells": [
  {
   "cell_type": "code",
   "execution_count": 24,
   "metadata": {},
   "outputs": [],
   "source": [
    "# Designed by ARH.\n",
    "ticker = 'BBVA';\n",
    "\n",
    "import os\n",
    "from urllib.request import urlopen, Request\n",
    "# We define the global url from investing equities\n",
    "URL_INIT = 'https://es.investing.com/equities/'\n",
    "\n",
    "# We define a dictionary that contains the tickers as well as their corresponding dividend sites.\n",
    "ticker_dict = {\n",
    "    'IBE': 'iberdrola-dividends/',\n",
    "    'BBVA': 'bbva-dividends/',\n",
    "    'ELE': 'endesa-dividends/'\n",
    "}\n",
    "\n",
    "# We define the url and the agent that will allow to download the html file.\n",
    "url = os.path.join(URL_INIT, ticker_dict[ticker])\n",
    "headers = {'User-Agent': 'Mozilla/5.0 (Windows NT 6.1) AppleWebKit/537.36 (KHTML, like Gecko) Chrome/41.0.2228.0 Safari/537.3'}\n",
    "reg_url = url\n",
    "\n",
    "# We make the request petition to investing.\n",
    "req = Request(url=reg_url, headers=headers) \n",
    "string = urlopen(req).read()\n",
    "\n",
    "\n"
   ]
  },
  {
   "cell_type": "code",
   "execution_count": 25,
   "metadata": {},
   "outputs": [],
   "source": [
    "# !pip install bs4\n",
    "# We use BeautifulSoup to parse the html information delivered by the website.\n",
    "from bs4 import BeautifulSoup\n",
    "soup = BeautifulSoup(string, 'html.parser')\n",
    "string_decoded = string.decode('utf-8');"
   ]
  },
  {
   "cell_type": "code",
   "execution_count": 26,
   "metadata": {},
   "outputs": [],
   "source": [
    "'''\n",
    "We locallize the table name directly from the html text data. The identifier will be\n",
    "'<table id=\"dividendsHistoryDat', which is the name given to the table that contains \n",
    "dividend data.\n",
    "'''\n",
    "# We essentially look for our string line by line in the html text.\n",
    "for i in string_decoded.split('\\n'):\n",
    "    if '<table id=\"dividendsHistoryDat' in i:\n",
    "        line = i;\n",
    "        \n",
    "# Once we find its real identifier, we use it to get the table with all its content.\n",
    "table_id = line.split('\"')[1];\n",
    "table = soup.find(id=table_id);"
   ]
  },
  {
   "cell_type": "code",
   "execution_count": 27,
   "metadata": {},
   "outputs": [
    {
     "data": {
      "text/plain": [
       "[{'payday': '15.10.2019', 'quantity': 0.26},\n",
       " {'payday': '10.04.2019', 'quantity': 0.26},\n",
       " {'payday': '13.06.2018', 'quantity': 0.3839},\n",
       " {'payday': '10.04.2018', 'quantity': 0.24},\n",
       " {'payday': '10.10.2017', 'quantity': 0.3786},\n",
       " {'payday': '26.04.2017', 'quantity': 0.3663}]"
      ]
     },
     "execution_count": 27,
     "metadata": {},
     "output_type": "execute_result"
    }
   ],
   "source": [
    "# We get the different cells available at the table\n",
    "data_list = table.findAll('tr');\n",
    "\n",
    "'''\n",
    "We read the table content and store it in a dictionary. We store both the quantity and\n",
    "the pay day. \n",
    "'''\n",
    "pay_info = [];\n",
    "for i in data_list[1:]:\n",
    "    pay_info.append({\n",
    "        'payday': i.findAll('td')[3].text,            \n",
    "        'quantity': float(i.findAll('td')[1].text.replace(',','.')),\n",
    "               })\n",
    "pay_info\n"
   ]
  },
  {
   "cell_type": "code",
   "execution_count": 28,
   "metadata": {},
   "outputs": [],
   "source": [
    "import csv\n",
    "csv_file = \"{0}_dividends.csv\".format(ticker)\n",
    "csv_columns = ['quantity', 'payday']\n",
    "try:\n",
    "    with open(csv_file, 'w') as csvfile:\n",
    "        writer = csv.DictWriter(csvfile, fieldnames=csv_columns)\n",
    "        writer.writeheader()\n",
    "        for data in pay_info:\n",
    "            writer.writerow(data)\n",
    "except IOError:\n",
    "    print(\"I/O error\") "
   ]
  }
 ],
 "metadata": {
  "kernelspec": {
   "display_name": "Python 3",
   "language": "python",
   "name": "python3"
  },
  "language_info": {
   "codemirror_mode": {
    "name": "ipython",
    "version": 3
   },
   "file_extension": ".py",
   "mimetype": "text/x-python",
   "name": "python",
   "nbconvert_exporter": "python",
   "pygments_lexer": "ipython3",
   "version": "3.7.3"
  }
 },
 "nbformat": 4,
 "nbformat_minor": 2
}
